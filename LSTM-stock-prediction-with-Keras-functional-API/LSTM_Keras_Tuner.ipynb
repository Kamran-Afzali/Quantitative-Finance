{
 "cells": [
  {
   "cell_type": "code",
   "execution_count": 3,
   "metadata": {},
   "outputs": [],
   "source": [
    "import pandas as pd\n",
    "import numpy as np\n",
    "import matplotlib.pyplot as plt\n",
    "import pandas as pd\n",
    "from sklearn.preprocessing import StandardScaler\n",
    "import yfinance as yf\n",
    "from yahoofinancials import YahooFinancials\n",
    "%matplotlib inline"
   ]
  },
  {
   "cell_type": "code",
   "execution_count": null,
   "metadata": {},
   "outputs": [
    {
     "name": "stderr",
     "output_type": "stream",
     "text": [
      "Exception in thread Thread-9:\n",
      "Traceback (most recent call last):\n",
      "  File \"/Users/kamranafzali/opt/anaconda3/envs/rain/lib/python3.8/threading.py\", line 932, in _bootstrap_inner\n",
      "    self.run()\n",
      "  File \"/Users/kamranafzali/opt/anaconda3/envs/rain/lib/python3.8/threading.py\", line 870, in run\n",
      "    self._target(*self._args, **self._kwargs)\n",
      "  File \"/Users/kamranafzali/opt/anaconda3/envs/rain/lib/python3.8/site-packages/multitasking/__init__.py\", line 102, in _run_via_pool\n",
      "    return callee(*args, **kwargs)\n",
      "  File \"/Users/kamranafzali/opt/anaconda3/envs/rain/lib/python3.8/site-packages/yfinance/multi.py\", line 166, in _download_one_threaded\n",
      "    data = _download_one(ticker, start, end, auto_adjust, back_adjust,\n",
      "  File \"/Users/kamranafzali/opt/anaconda3/envs/rain/lib/python3.8/site-packages/yfinance/multi.py\", line 178, in _download_one\n",
      "    return Ticker(ticker).history(period=period, interval=interval,\n",
      "  File \"/Users/kamranafzali/opt/anaconda3/envs/rain/lib/python3.8/site-packages/yfinance/base.py\", line 155, in history\n",
      "    data = data.json()\n",
      "  File \"/Users/kamranafzali/opt/anaconda3/envs/rain/lib/python3.8/site-packages/requests/models.py\", line 898, in json\n",
      "    return complexjson.loads(self.text, **kwargs)\n",
      "  File \"/Users/kamranafzali/opt/anaconda3/envs/rain/lib/python3.8/json/__init__.py\", line 357, in loads\n",
      "    return _default_decoder.decode(s)\n",
      "  File \"/Users/kamranafzali/opt/anaconda3/envs/rain/lib/python3.8/json/decoder.py\", line 337, in decode\n",
      "    obj, end = self.raw_decode(s, idx=_w(s, 0).end())\n",
      "  File \"/Users/kamranafzali/opt/anaconda3/envs/rain/lib/python3.8/json/decoder.py\", line 355, in raw_decode\n",
      "    raise JSONDecodeError(\"Expecting value\", s, err.value) from None\n",
      "json.decoder.JSONDecodeError: Expecting value: line 1 column 1 (char 0)\n"
     ]
    }
   ],
   "source": [
    "appl_df = yf.download('AAPL', \n",
    "                      start='2019-01-01', \n",
    "                      end='2020-12-31', \n",
    "                      progress=False)\n"
   ]
  },
  {
   "cell_type": "code",
   "execution_count": null,
   "metadata": {},
   "outputs": [],
   "source": [
    "appl_df.head()"
   ]
  },
  {
   "cell_type": "code",
   "execution_count": null,
   "metadata": {},
   "outputs": [],
   "source": [
    "appl_df['Open'].plot(title=\"Apple's stock price\")"
   ]
  },
  {
   "cell_type": "code",
   "execution_count": null,
   "metadata": {},
   "outputs": [],
   "source": [
    "appl_df['Open']=appl_df['Open'].pct_change()\n",
    "appl_df['Open'].plot(title=\"Apple's stock return\")"
   ]
  },
  {
   "cell_type": "code",
   "execution_count": null,
   "metadata": {},
   "outputs": [],
   "source": [
    "sc = StandardScaler()"
   ]
  },
  {
   "cell_type": "code",
   "execution_count": null,
   "metadata": {},
   "outputs": [],
   "source": [
    "def preproc( data, lag, ratio):\n",
    "    data=data.dropna().iloc[:, 0:1]\n",
    "    Dates=data.index.unique()\n",
    "    data.iloc[:, 0] = sc.fit_transform(data.iloc[:, 0].values.reshape(-1, 1))\n",
    "    for s in range(1, lag):\n",
    "        data['shift_{}'.format(s)] = data.iloc[:, 0].shift(s)\n",
    "    X_data = data.dropna().drop(['Open'], axis=1)\n",
    "    y_data = data.dropna()[['Open']]\n",
    "    index=int(round(len(X_data)*ratio))\n",
    "    X_data_train=X_data.iloc[:index,:]\n",
    "    X_data_test =X_data.iloc[index+1:,:]\n",
    "    y_data_train=y_data.iloc[:index,:]\n",
    "    y_data_test =y_data.iloc[index+1:,:]\n",
    "    return X_data_train,X_data_test,y_data_train,y_data_test,Dates;"
   ]
  },
  {
   "cell_type": "code",
   "execution_count": null,
   "metadata": {},
   "outputs": [],
   "source": [
    "a,b,c,d,e=preproc(appl_df, 25, 0.90)"
   ]
  },
  {
   "cell_type": "code",
   "execution_count": null,
   "metadata": {},
   "outputs": [],
   "source": [
    "from keras.models import Sequential\n",
    "from keras.layers import Dense\n",
    "from keras.layers import LSTM\n",
    "import keras.backend as K\n",
    "from keras.callbacks import EarlyStopping"
   ]
  },
  {
   "cell_type": "code",
   "execution_count": null,
   "metadata": {},
   "outputs": [],
   "source": [
    "import keras_tuner as kt\n",
    "from tensorflow import keras"
   ]
  },
  {
   "cell_type": "code",
   "execution_count": null,
   "metadata": {},
   "outputs": [],
   "source": [
    "def build_model(hp):\n",
    "    model = keras.Sequential()\n",
    "    model.add(keras.layers.Dense(hp.Choice('units', [8, 16, 32]), activation='relu'))\n",
    "    model.add(keras.layers.Dense(1, activation='relu'))\n",
    "    model.compile(loss='mse')\n",
    "    return model"
   ]
  },
  {
   "cell_type": "code",
   "execution_count": null,
   "metadata": {},
   "outputs": [],
   "source": [
    "tuner = kt.RandomSearch( build_model, objective='val_loss', max_trials=5)"
   ]
  },
  {
   "cell_type": "code",
   "execution_count": null,
   "metadata": {},
   "outputs": [],
   "source": [
    "tuner.search(x_train, y_train, epochs=5, validation_data=(x_val, y_val))"
   ]
  },
  {
   "cell_type": "code",
   "execution_count": null,
   "metadata": {},
   "outputs": [],
   "source": [
    "best_model = tuner.get_best_models()[0]"
   ]
  }
 ],
 "metadata": {
  "kernelspec": {
   "display_name": "Python 3",
   "language": "python",
   "name": "python3"
  },
  "language_info": {
   "codemirror_mode": {
    "name": "ipython",
    "version": 3
   },
   "file_extension": ".py",
   "mimetype": "text/x-python",
   "name": "python",
   "nbconvert_exporter": "python",
   "pygments_lexer": "ipython3",
   "version": "3.8.5"
  }
 },
 "nbformat": 4,
 "nbformat_minor": 4
}
