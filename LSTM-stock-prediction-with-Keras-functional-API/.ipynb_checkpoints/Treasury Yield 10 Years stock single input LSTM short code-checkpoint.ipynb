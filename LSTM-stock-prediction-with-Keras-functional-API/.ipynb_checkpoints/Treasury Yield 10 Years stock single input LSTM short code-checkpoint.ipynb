{
 "cells": [
  {
   "cell_type": "code",
   "execution_count": 1,
   "metadata": {},
   "outputs": [],
   "source": [
    "import numpy as np\n",
    "import matplotlib.pyplot as plt\n",
    "import pandas as pd\n",
    "from sklearn.preprocessing import MinMaxScaler\n",
    "%matplotlib inline"
   ]
  },
  {
   "cell_type": "code",
   "execution_count": 2,
   "metadata": {},
   "outputs": [],
   "source": [
    "sc = MinMaxScaler(feature_range = (0, 1))"
   ]
  },
  {
   "cell_type": "code",
   "execution_count": 7,
   "metadata": {},
   "outputs": [],
   "source": [
    "def preproc( data, lag, ratio):\n",
    "    data=data.dropna().iloc[:, 0:2]\n",
    "    Dates=data[\"Date\"].unique()\n",
    "    data.iloc[:, 1] = sc.fit_transform(data.iloc[:, 1].values.reshape(-1, 1))\n",
    "    for s in range(1, lag):\n",
    "        data['shift_{}'.format(s)] = data['Open'].shift(s)\n",
    "    X_data = data.dropna().drop(['Open',\"Date\"], axis=1)\n",
    "    y_data = data.dropna()[['Open']]\n",
    "    index=int(round(len(X_data)*ratio))\n",
    "    X_data_train=X_data.iloc[:index,:]\n",
    "    X_data_test =X_data.iloc[index+1:,:]\n",
    "    y_data_train=y_data.iloc[:index,:]\n",
    "    y_data_test =y_data.iloc[index+1:,:]\n",
    "    return X_data_train,X_data_test,y_data_train,y_data_test,Dates;"
   ]
  },
  {
   "cell_type": "code",
   "execution_count": 14,
   "metadata": {},
   "outputs": [],
   "source": [
    "data = pd.read_csv('TNX.csv')\n",
    "a,b,c,d,e=preproc(data, 15, 0.75)"
   ]
  },
  {
   "cell_type": "code",
   "execution_count": 15,
   "metadata": {},
   "outputs": [],
   "source": [
    "a = a.values\n",
    "b= b.values\n",
    "\n",
    "c = c.values\n",
    "d = d.values\n",
    "\n",
    "X_train_t = a.reshape(a.shape[0], 1, 14)\n",
    "X_test_t = b.reshape(b.shape[0], 1, 14)"
   ]
  },
  {
   "cell_type": "code",
   "execution_count": 16,
   "metadata": {},
   "outputs": [],
   "source": [
    "from keras.models import Sequential\n",
    "from keras.layers import Dense\n",
    "from keras.layers import LSTM\n",
    "import keras.backend as K\n",
    "from keras.callbacks import EarlyStopping"
   ]
  },
  {
   "cell_type": "code",
   "execution_count": 17,
   "metadata": {},
   "outputs": [],
   "source": [
    "K.clear_session()\n",
    "early_stop = EarlyStopping(monitor='loss', patience=1, verbose=1)\n",
    "model = Sequential()\n",
    "model.add(LSTM(6, input_shape=(1, 14)))\n",
    "model.add(Dense(1))\n",
    "model.compile(loss='mean_squared_error', optimizer='adam')"
   ]
  },
  {
   "cell_type": "code",
   "execution_count": 18,
   "metadata": {},
   "outputs": [
    {
     "name": "stdout",
     "output_type": "stream",
     "text": [
      "Epoch 1/100\n",
      "176/176 [==============================] - 1s 8ms/step - loss: 0.0771\n",
      "Epoch 2/100\n",
      "176/176 [==============================] - 1s 4ms/step - loss: 0.0055\n",
      "Epoch 3/100\n",
      "176/176 [==============================] - 1s 4ms/step - loss: 0.0050\n",
      "Epoch 4/100\n",
      "176/176 [==============================] - 1s 5ms/step - loss: 0.0045\n",
      "Epoch 5/100\n",
      "176/176 [==============================] - 1s 4ms/step - loss: 0.0043\n",
      "Epoch 6/100\n",
      "176/176 [==============================] - 1s 4ms/step - loss: 0.0040\n",
      "Epoch 7/100\n",
      "176/176 [==============================] - 1s 3ms/step - loss: 0.0037\n",
      "Epoch 8/100\n",
      "176/176 [==============================] - 1s 3ms/step - loss: 0.0035\n",
      "Epoch 9/100\n",
      "176/176 [==============================] - 1s 4ms/step - loss: 0.0032\n",
      "Epoch 10/100\n",
      "176/176 [==============================] - 1s 3ms/step - loss: 0.0031\n",
      "Epoch 11/100\n",
      "176/176 [==============================] - 1s 4ms/step - loss: 0.0028\n",
      "Epoch 12/100\n",
      "176/176 [==============================] - 1s 4ms/step - loss: 0.0027\n",
      "Epoch 13/100\n",
      "176/176 [==============================] - 1s 3ms/step - loss: 0.0025\n",
      "Epoch 14/100\n",
      "176/176 [==============================] - 1s 3ms/step - loss: 0.0023\n",
      "Epoch 15/100\n",
      "176/176 [==============================] - 1s 3ms/step - loss: 0.0021\n",
      "Epoch 16/100\n",
      "176/176 [==============================] - 1s 3ms/step - loss: 0.0022\n",
      "Epoch 00016: early stopping\n"
     ]
    },
    {
     "data": {
      "text/plain": [
       "<keras.callbacks.callbacks.History at 0x7f4f904d9c88>"
      ]
     },
     "execution_count": 18,
     "metadata": {},
     "output_type": "execute_result"
    }
   ],
   "source": [
    "model.fit(X_train_t, c,\n",
    "          epochs=100, batch_size=1, verbose=1,\n",
    "          callbacks=[early_stop])"
   ]
  },
  {
   "cell_type": "code",
   "execution_count": 19,
   "metadata": {},
   "outputs": [
    {
     "data": {
      "text/plain": [
       "[<matplotlib.lines.Line2D at 0x7f4f64634e80>]"
      ]
     },
     "execution_count": 19,
     "metadata": {},
     "output_type": "execute_result"
    },
    {
     "data": {
      "image/png": "[encoded data removed]",
      "text/plain": [
       "<Figure size 432x288 with 1 Axes>"
      ]
     },
     "metadata": {
      "needs_background": "light"
     },
     "output_type": "display_data"
    }
   ],
   "source": [
    "y_pred = model.predict(X_test_t)\n",
    "plt.plot(d)\n",
    "plt.plot(y_pred)"
   ]
  },
  {
   "cell_type": "code",
   "execution_count": null,
   "metadata": {},
   "outputs": [],
   "source": []
  }
 ],
 "metadata": {
  "kernelspec": {
   "display_name": "Python 3",
   "language": "python",
   "name": "python3"
  },
  "language_info": {
   "codemirror_mode": {
    "name": "ipython",
    "version": 3
   },
   "file_extension": ".py",
   "mimetype": "text/x-python",
   "name": "python",
   "nbconvert_exporter": "python",
   "pygments_lexer": "ipython3",
   "version": "3.8.5"
  }
 },
 "nbformat": 4,
 "nbformat_minor": 2
}
