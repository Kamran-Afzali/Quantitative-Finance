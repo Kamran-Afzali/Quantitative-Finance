{
 "cells": [
  {
   "cell_type": "code",
   "execution_count": 1,
   "metadata": {},
   "outputs": [],
   "source": [
    "import pandas as pd\n",
    "import numpy as np\n",
    "import matplotlib.pyplot as plt\n",
    "import pandas as pd\n",
    "from sklearn.preprocessing import MinMaxScaler\n",
    "import yfinance as yf\n",
    "from yahoofinancials import YahooFinancials\n",
    "%matplotlib inline"
   ]
  },
  {
   "cell_type": "code",
   "execution_count": 110,
   "metadata": {},
   "outputs": [
    {
     "data": {
      "text/html": [
       "<div>\n",
       "<style scoped>\n",
       "    .dataframe tbody tr th:only-of-type {\n",
       "        vertical-align: middle;\n",
       "    }\n",
       "\n",
       "    .dataframe tbody tr th {\n",
       "        vertical-align: top;\n",
       "    }\n",
       "\n",
       "    .dataframe thead th {\n",
       "        text-align: right;\n",
       "    }\n",
       "</style>\n",
       "<table border=\"1\" class=\"dataframe\">\n",
       "  <thead>\n",
       "    <tr style=\"text-align: right;\">\n",
       "      <th></th>\n",
       "      <th>Open</th>\n",
       "      <th>High</th>\n",
       "      <th>Low</th>\n",
       "      <th>Close</th>\n",
       "      <th>Adj Close</th>\n",
       "      <th>Volume</th>\n",
       "    </tr>\n",
       "    <tr>\n",
       "      <th>Date</th>\n",
       "      <th></th>\n",
       "      <th></th>\n",
       "      <th></th>\n",
       "      <th></th>\n",
       "      <th></th>\n",
       "      <th></th>\n",
       "    </tr>\n",
       "  </thead>\n",
       "  <tbody>\n",
       "    <tr>\n",
       "      <th>2018-01-02</th>\n",
       "      <td>42.540001</td>\n",
       "      <td>43.075001</td>\n",
       "      <td>42.314999</td>\n",
       "      <td>43.064999</td>\n",
       "      <td>41.380238</td>\n",
       "      <td>102223600</td>\n",
       "    </tr>\n",
       "    <tr>\n",
       "      <th>2018-01-03</th>\n",
       "      <td>43.132500</td>\n",
       "      <td>43.637501</td>\n",
       "      <td>42.990002</td>\n",
       "      <td>43.057499</td>\n",
       "      <td>41.373032</td>\n",
       "      <td>118071600</td>\n",
       "    </tr>\n",
       "    <tr>\n",
       "      <th>2018-01-04</th>\n",
       "      <td>43.134998</td>\n",
       "      <td>43.367500</td>\n",
       "      <td>43.020000</td>\n",
       "      <td>43.257500</td>\n",
       "      <td>41.565216</td>\n",
       "      <td>89738400</td>\n",
       "    </tr>\n",
       "    <tr>\n",
       "      <th>2018-01-05</th>\n",
       "      <td>43.360001</td>\n",
       "      <td>43.842499</td>\n",
       "      <td>43.262501</td>\n",
       "      <td>43.750000</td>\n",
       "      <td>42.038452</td>\n",
       "      <td>94640000</td>\n",
       "    </tr>\n",
       "    <tr>\n",
       "      <th>2018-01-08</th>\n",
       "      <td>43.587502</td>\n",
       "      <td>43.902500</td>\n",
       "      <td>43.482498</td>\n",
       "      <td>43.587502</td>\n",
       "      <td>41.882305</td>\n",
       "      <td>82271200</td>\n",
       "    </tr>\n",
       "  </tbody>\n",
       "</table>\n",
       "</div>"
      ],
      "text/plain": [
       "                 Open       High        Low      Close  Adj Close     Volume\n",
       "Date                                                                        \n",
       "2018-01-02  42.540001  43.075001  42.314999  43.064999  41.380238  102223600\n",
       "2018-01-03  43.132500  43.637501  42.990002  43.057499  41.373032  118071600\n",
       "2018-01-04  43.134998  43.367500  43.020000  43.257500  41.565216   89738400\n",
       "2018-01-05  43.360001  43.842499  43.262501  43.750000  42.038452   94640000\n",
       "2018-01-08  43.587502  43.902500  43.482498  43.587502  41.882305   82271200"
      ]
     },
     "execution_count": 110,
     "metadata": {},
     "output_type": "execute_result"
    }
   ],
   "source": [
    "appl_df = yf.download('AAPL', \n",
    "                      start='2018-01-01', \n",
    "                      end='2019-12-31', \n",
    "                      progress=False)\n",
    "appl_df.head()"
   ]
  },
  {
   "cell_type": "code",
   "execution_count": 111,
   "metadata": {
    "scrolled": true
   },
   "outputs": [
    {
     "data": {
      "text/plain": [
       "<AxesSubplot:title={'center':\"Apple's stock price\"}, xlabel='Date'>"
      ]
     },
     "execution_count": 111,
     "metadata": {},
     "output_type": "execute_result"
    },
    {
     "data": {
      "image/png": "[encoded data removed]",
      "text/plain": [
       "<Figure size 432x288 with 1 Axes>"
      ]
     },
     "metadata": {
      "needs_background": "light"
     },
     "output_type": "display_data"
    }
   ],
   "source": [
    "appl_df['Open'].plot(title=\"Apple's stock price\")"
   ]
  },
  {
   "cell_type": "code",
   "execution_count": 112,
   "metadata": {},
   "outputs": [],
   "source": [
    "sc = MinMaxScaler(feature_range = (0, 1))"
   ]
  },
  {
   "cell_type": "code",
   "execution_count": 113,
   "metadata": {},
   "outputs": [],
   "source": [
    "def preproc( data, lag, ratio):\n",
    "    data=data.dropna().iloc[:, 0:1]\n",
    "    Dates=data.index.unique()\n",
    "    data.iloc[:, 0] = sc.fit_transform(data.iloc[:, 0].values.reshape(-1, 1))\n",
    "    for s in range(1, 15):\n",
    "        data['shift_{}'.format(s)] = data.iloc[:, 0].shift(s)\n",
    "    X_data = data.dropna().drop(['Open'], axis=1)\n",
    "    y_data = data.dropna()[['Open']]\n",
    "    index=int(round(len(X_data)*ratio))\n",
    "    X_data_train=X_data.iloc[:index,:]\n",
    "    X_data_test =X_data.iloc[index+1:,:]\n",
    "    y_data_train=y_data.iloc[:index,:]\n",
    "    y_data_test =y_data.iloc[index+1:,:]\n",
    "    return X_data_train,X_data_test,y_data_train,y_data_test,Dates;"
   ]
  },
  {
   "cell_type": "code",
   "execution_count": 114,
   "metadata": {},
   "outputs": [],
   "source": [
    "a,b,c,d,e=preproc(appl_df, 15, 0.75)"
   ]
  },
  {
   "cell_type": "code",
   "execution_count": 115,
   "metadata": {},
   "outputs": [
    {
     "data": {
      "text/html": [
       "<div>\n",
       "<style scoped>\n",
       "    .dataframe tbody tr th:only-of-type {\n",
       "        vertical-align: middle;\n",
       "    }\n",
       "\n",
       "    .dataframe tbody tr th {\n",
       "        vertical-align: top;\n",
       "    }\n",
       "\n",
       "    .dataframe thead th {\n",
       "        text-align: right;\n",
       "    }\n",
       "</style>\n",
       "<table border=\"1\" class=\"dataframe\">\n",
       "  <thead>\n",
       "    <tr style=\"text-align: right;\">\n",
       "      <th></th>\n",
       "      <th>Open</th>\n",
       "      <th>High</th>\n",
       "      <th>Low</th>\n",
       "      <th>Close</th>\n",
       "      <th>Adj Close</th>\n",
       "      <th>Volume</th>\n",
       "    </tr>\n",
       "    <tr>\n",
       "      <th>Date</th>\n",
       "      <th></th>\n",
       "      <th></th>\n",
       "      <th></th>\n",
       "      <th></th>\n",
       "      <th></th>\n",
       "      <th></th>\n",
       "    </tr>\n",
       "  </thead>\n",
       "  <tbody>\n",
       "    <tr>\n",
       "      <th>2018-01-02</th>\n",
       "      <td>267.839996</td>\n",
       "      <td>268.809998</td>\n",
       "      <td>267.399994</td>\n",
       "      <td>268.769989</td>\n",
       "      <td>253.283142</td>\n",
       "      <td>86655700</td>\n",
       "    </tr>\n",
       "    <tr>\n",
       "      <th>2018-01-03</th>\n",
       "      <td>268.959991</td>\n",
       "      <td>270.640015</td>\n",
       "      <td>268.959991</td>\n",
       "      <td>270.470001</td>\n",
       "      <td>254.885162</td>\n",
       "      <td>90070400</td>\n",
       "    </tr>\n",
       "    <tr>\n",
       "      <th>2018-01-04</th>\n",
       "      <td>271.200012</td>\n",
       "      <td>272.160004</td>\n",
       "      <td>270.540009</td>\n",
       "      <td>271.609985</td>\n",
       "      <td>255.959488</td>\n",
       "      <td>80636400</td>\n",
       "    </tr>\n",
       "    <tr>\n",
       "      <th>2018-01-05</th>\n",
       "      <td>272.510010</td>\n",
       "      <td>273.559998</td>\n",
       "      <td>271.950012</td>\n",
       "      <td>273.420013</td>\n",
       "      <td>257.665283</td>\n",
       "      <td>83524000</td>\n",
       "    </tr>\n",
       "    <tr>\n",
       "      <th>2018-01-08</th>\n",
       "      <td>273.309998</td>\n",
       "      <td>274.100006</td>\n",
       "      <td>272.980011</td>\n",
       "      <td>273.920013</td>\n",
       "      <td>258.136414</td>\n",
       "      <td>57319200</td>\n",
       "    </tr>\n",
       "  </tbody>\n",
       "</table>\n",
       "</div>"
      ],
      "text/plain": [
       "                  Open        High         Low       Close   Adj Close  \\\n",
       "Date                                                                     \n",
       "2018-01-02  267.839996  268.809998  267.399994  268.769989  253.283142   \n",
       "2018-01-03  268.959991  270.640015  268.959991  270.470001  254.885162   \n",
       "2018-01-04  271.200012  272.160004  270.540009  271.609985  255.959488   \n",
       "2018-01-05  272.510010  273.559998  271.950012  273.420013  257.665283   \n",
       "2018-01-08  273.309998  274.100006  272.980011  273.920013  258.136414   \n",
       "\n",
       "              Volume  \n",
       "Date                  \n",
       "2018-01-02  86655700  \n",
       "2018-01-03  90070400  \n",
       "2018-01-04  80636400  \n",
       "2018-01-05  83524000  \n",
       "2018-01-08  57319200  "
      ]
     },
     "execution_count": 115,
     "metadata": {},
     "output_type": "execute_result"
    }
   ],
   "source": [
    "spy_df = yf.download('SPY', \n",
    "                      start='2018-01-01', \n",
    "                      end='2019-12-31', \n",
    "                      progress=False)\n",
    "spy_df.head()"
   ]
  },
  {
   "cell_type": "code",
   "execution_count": 116,
   "metadata": {},
   "outputs": [],
   "source": [
    "def preproc2( data1, data2, lag, ratio):\n",
    "    common_dates=list(set(data1.index) & set(data2.index))\n",
    "    data1=data1[data1.index.isin(common_dates)]\n",
    "    data2=data2[data2.index.isin(common_dates)]\n",
    "    X1=preproc(data1, lag, ratio)\n",
    "    X2=preproc(data2, lag, ratio)\n",
    "    return X1,X2;"
   ]
  },
  {
   "cell_type": "code",
   "execution_count": 117,
   "metadata": {},
   "outputs": [],
   "source": [
    "dataLSTM=preproc2( spy_df, appl_df, 15, 0.75)"
   ]
  },
  {
   "cell_type": "code",
   "execution_count": 132,
   "metadata": {},
   "outputs": [
    {
     "data": {
      "text/html": [
       "<div>\n",
       "<style scoped>\n",
       "    .dataframe tbody tr th:only-of-type {\n",
       "        vertical-align: middle;\n",
       "    }\n",
       "\n",
       "    .dataframe tbody tr th {\n",
       "        vertical-align: top;\n",
       "    }\n",
       "\n",
       "    .dataframe thead th {\n",
       "        text-align: right;\n",
       "    }\n",
       "</style>\n",
       "<table border=\"1\" class=\"dataframe\">\n",
       "  <thead>\n",
       "    <tr style=\"text-align: right;\">\n",
       "      <th></th>\n",
       "      <th>Open</th>\n",
       "    </tr>\n",
       "    <tr>\n",
       "      <th>Date</th>\n",
       "      <th></th>\n",
       "    </tr>\n",
       "  </thead>\n",
       "  <tbody>\n",
       "    <tr>\n",
       "      <th>2018-01-23</th>\n",
       "      <td>0.532870</td>\n",
       "    </tr>\n",
       "    <tr>\n",
       "      <th>2018-01-24</th>\n",
       "      <td>0.547454</td>\n",
       "    </tr>\n",
       "    <tr>\n",
       "      <th>2018-01-25</th>\n",
       "      <td>0.549049</td>\n",
       "    </tr>\n",
       "    <tr>\n",
       "      <th>2018-01-26</th>\n",
       "      <td>0.550074</td>\n",
       "    </tr>\n",
       "    <tr>\n",
       "      <th>2018-01-29</th>\n",
       "      <td>0.569215</td>\n",
       "    </tr>\n",
       "    <tr>\n",
       "      <th>...</th>\n",
       "      <td>...</td>\n",
       "    </tr>\n",
       "    <tr>\n",
       "      <th>2019-07-01</th>\n",
       "      <td>0.691694</td>\n",
       "    </tr>\n",
       "    <tr>\n",
       "      <th>2019-07-02</th>\n",
       "      <td>0.679503</td>\n",
       "    </tr>\n",
       "    <tr>\n",
       "      <th>2019-07-03</th>\n",
       "      <td>0.697391</td>\n",
       "    </tr>\n",
       "    <tr>\n",
       "      <th>2019-07-05</th>\n",
       "      <td>0.700353</td>\n",
       "    </tr>\n",
       "    <tr>\n",
       "      <th>2019-07-08</th>\n",
       "      <td>0.695454</td>\n",
       "    </tr>\n",
       "  </tbody>\n",
       "</table>\n",
       "<p>366 rows × 1 columns</p>\n",
       "</div>"
      ],
      "text/plain": [
       "                Open\n",
       "Date                \n",
       "2018-01-23  0.532870\n",
       "2018-01-24  0.547454\n",
       "2018-01-25  0.549049\n",
       "2018-01-26  0.550074\n",
       "2018-01-29  0.569215\n",
       "...              ...\n",
       "2019-07-01  0.691694\n",
       "2019-07-02  0.679503\n",
       "2019-07-03  0.697391\n",
       "2019-07-05  0.700353\n",
       "2019-07-08  0.695454\n",
       "\n",
       "[366 rows x 1 columns]"
      ]
     },
     "execution_count": 132,
     "metadata": {},
     "output_type": "execute_result"
    }
   ],
   "source": [
    "dataLSTM[0][2]"
   ]
  },
  {
   "cell_type": "code",
   "execution_count": 133,
   "metadata": {},
   "outputs": [
    {
     "data": {
      "text/html": [
       "<div>\n",
       "<style scoped>\n",
       "    .dataframe tbody tr th:only-of-type {\n",
       "        vertical-align: middle;\n",
       "    }\n",
       "\n",
       "    .dataframe tbody tr th {\n",
       "        vertical-align: top;\n",
       "    }\n",
       "\n",
       "    .dataframe thead th {\n",
       "        text-align: right;\n",
       "    }\n",
       "</style>\n",
       "<table border=\"1\" class=\"dataframe\">\n",
       "  <thead>\n",
       "    <tr style=\"text-align: right;\">\n",
       "      <th></th>\n",
       "      <th>Open</th>\n",
       "    </tr>\n",
       "    <tr>\n",
       "      <th>Date</th>\n",
       "      <th></th>\n",
       "    </tr>\n",
       "  </thead>\n",
       "  <tbody>\n",
       "    <tr>\n",
       "      <th>2018-01-23</th>\n",
       "      <td>0.226451</td>\n",
       "    </tr>\n",
       "    <tr>\n",
       "      <th>2018-01-24</th>\n",
       "      <td>0.226111</td>\n",
       "    </tr>\n",
       "    <tr>\n",
       "      <th>2018-01-25</th>\n",
       "      <td>0.207489</td>\n",
       "    </tr>\n",
       "    <tr>\n",
       "      <th>2018-01-26</th>\n",
       "      <td>0.190431</td>\n",
       "    </tr>\n",
       "    <tr>\n",
       "      <th>2018-01-29</th>\n",
       "      <td>0.177926</td>\n",
       "    </tr>\n",
       "    <tr>\n",
       "      <th>...</th>\n",
       "      <td>...</td>\n",
       "    </tr>\n",
       "    <tr>\n",
       "      <th>2019-07-01</th>\n",
       "      <td>0.402270</td>\n",
       "    </tr>\n",
       "    <tr>\n",
       "      <th>2019-07-02</th>\n",
       "      <td>0.390309</td>\n",
       "    </tr>\n",
       "    <tr>\n",
       "      <th>2019-07-03</th>\n",
       "      <td>0.403018</td>\n",
       "    </tr>\n",
       "    <tr>\n",
       "      <th>2019-07-05</th>\n",
       "      <td>0.403493</td>\n",
       "    </tr>\n",
       "    <tr>\n",
       "      <th>2019-07-08</th>\n",
       "      <td>0.386231</td>\n",
       "    </tr>\n",
       "  </tbody>\n",
       "</table>\n",
       "<p>366 rows × 1 columns</p>\n",
       "</div>"
      ],
      "text/plain": [
       "                Open\n",
       "Date                \n",
       "2018-01-23  0.226451\n",
       "2018-01-24  0.226111\n",
       "2018-01-25  0.207489\n",
       "2018-01-26  0.190431\n",
       "2018-01-29  0.177926\n",
       "...              ...\n",
       "2019-07-01  0.402270\n",
       "2019-07-02  0.390309\n",
       "2019-07-03  0.403018\n",
       "2019-07-05  0.403493\n",
       "2019-07-08  0.386231\n",
       "\n",
       "[366 rows x 1 columns]"
      ]
     },
     "execution_count": 133,
     "metadata": {},
     "output_type": "execute_result"
    }
   ],
   "source": [
    "dataLSTM[1][2]"
   ]
  },
  {
   "cell_type": "code",
   "execution_count": 120,
   "metadata": {},
   "outputs": [],
   "source": [
    "from keras.models import Sequential\n",
    "from keras.layers import Dense\n",
    "from keras.layers import LSTM\n",
    "import keras.backend as K\n",
    "from keras.callbacks import EarlyStopping"
   ]
  },
  {
   "cell_type": "code",
   "execution_count": 121,
   "metadata": {},
   "outputs": [],
   "source": [
    "a = a.values\n",
    "b= b.values\n",
    "\n",
    "c = c.values\n",
    "d = d.values\n",
    "\n"
   ]
  },
  {
   "cell_type": "code",
   "execution_count": 122,
   "metadata": {},
   "outputs": [],
   "source": [
    "X_train_t = a.reshape(a.shape[0], 1, 14)\n",
    "X_test_t = b.reshape(b.shape[0], 1, 14)"
   ]
  },
  {
   "cell_type": "code",
   "execution_count": 106,
   "metadata": {},
   "outputs": [],
   "source": [
    "K.clear_session()\n",
    "early_stop = EarlyStopping(monitor='loss', patience=1, verbose=1)\n",
    "model = Sequential()\n",
    "model.add(LSTM(6, input_shape=(1, 14)))\n",
    "model.add(Dense(1))\n",
    "model.compile(loss='mean_squared_error', optimizer='adam')"
   ]
  },
  {
   "cell_type": "code",
   "execution_count": 107,
   "metadata": {},
   "outputs": [
    {
     "name": "stdout",
     "output_type": "stream",
     "text": [
      "Epoch 1/100\n",
      "366/366 [==============================] - 1s 663us/step - loss: 0.0360\n",
      "Epoch 2/100\n",
      "366/366 [==============================] - 0s 639us/step - loss: 0.0021\n",
      "Epoch 3/100\n",
      "366/366 [==============================] - 0s 634us/step - loss: 0.0016\n",
      "Epoch 4/100\n",
      "366/366 [==============================] - 0s 643us/step - loss: 0.0013\n",
      "Epoch 5/100\n",
      "366/366 [==============================] - 0s 649us/step - loss: 0.0012\n",
      "Epoch 6/100\n",
      "366/366 [==============================] - 0s 638us/step - loss: 0.0012\n",
      "Epoch 7/100\n",
      "366/366 [==============================] - 0s 649us/step - loss: 8.7886e-04\n",
      "Epoch 8/100\n",
      "366/366 [==============================] - 0s 647us/step - loss: 9.1901e-04\n",
      "Epoch 9/100\n",
      "366/366 [==============================] - 0s 634us/step - loss: 8.7606e-04\n",
      "Epoch 10/100\n",
      "366/366 [==============================] - 0s 635us/step - loss: 8.3241e-04\n",
      "Epoch 11/100\n",
      "366/366 [==============================] - 0s 636us/step - loss: 7.7170e-04\n",
      "Epoch 12/100\n",
      "366/366 [==============================] - 0s 637us/step - loss: 7.4297e-04\n",
      "Epoch 13/100\n",
      "366/366 [==============================] - 0s 648us/step - loss: 7.8182e-04\n",
      "Epoch 14/100\n",
      "366/366 [==============================] - 0s 654us/step - loss: 7.3920e-04\n",
      "Epoch 15/100\n",
      "366/366 [==============================] - 0s 652us/step - loss: 7.7415e-04\n",
      "Epoch 16/100\n",
      "366/366 [==============================] - 0s 654us/step - loss: 8.1724e-04\n",
      "Epoch 17/100\n",
      "366/366 [==============================] - 0s 646us/step - loss: 6.5022e-04\n",
      "Epoch 00017: early stopping\n"
     ]
    },
    {
     "data": {
      "text/plain": [
       "<tensorflow.python.keras.callbacks.History at 0x7f8e20c0a7f0>"
      ]
     },
     "execution_count": 107,
     "metadata": {},
     "output_type": "execute_result"
    }
   ],
   "source": [
    "model.fit(X_train_t, c,\n",
    "          epochs=100, batch_size=1, verbose=1,\n",
    "          callbacks=[early_stop])"
   ]
  },
  {
   "cell_type": "code",
   "execution_count": 123,
   "metadata": {},
   "outputs": [
    {
     "data": {
      "text/plain": [
       "[<matplotlib.lines.Line2D at 0x7f8de082b1c0>]"
      ]
     },
     "execution_count": 123,
     "metadata": {},
     "output_type": "execute_result"
    },
    {
     "data": {
      "image/png": "[encoded data removed]",
      "text/plain": [
       "<Figure size 432x288 with 1 Axes>"
      ]
     },
     "metadata": {
      "needs_background": "light"
     },
     "output_type": "display_data"
    }
   ],
   "source": [
    "y_pred = model.predict(X_test_t)\n",
    "plt.plot(d)\n",
    "plt.plot(y_pred)"
   ]
  },
  {
   "cell_type": "code",
   "execution_count": 139,
   "metadata": {},
   "outputs": [],
   "source": [
    "Aa = dataLSTM[0][0].values\n",
    "Ab = dataLSTM[0][1].values\n",
    "\n",
    "Ac = dataLSTM[0][2].values\n",
    "Ad = dataLSTM[0][3].values\n",
    "X_train_A = Aa.reshape(Aa.shape[0], 1, 14)\n",
    "X_test_A = Ab.reshape(Ab.shape[0], 1, 14)"
   ]
  },
  {
   "cell_type": "code",
   "execution_count": 140,
   "metadata": {},
   "outputs": [],
   "source": [
    "Sa = dataLSTM[1][0].values\n",
    "Sb = dataLSTM[1][1].values\n",
    "\n",
    "Sc = dataLSTM[1][2].values\n",
    "Sd = dataLSTM[1][3].values\n",
    "X_train_S = Sa.reshape(Sa.shape[0], 1, 14)\n",
    "X_test_S = Sb.reshape(Sb.shape[0], 1, 14)"
   ]
  },
  {
   "cell_type": "code",
   "execution_count": 137,
   "metadata": {},
   "outputs": [],
   "source": [
    "from keras.layers import concatenate\n",
    "from keras.layers import Dropout\n",
    "from keras.models import Sequential\n",
    "from keras.layers import Dense\n",
    "import keras.backend as K\n",
    "from keras.callbacks import EarlyStopping\n",
    "from keras.layers import LSTM\n",
    "from keras.models import Input, Model\n",
    "from keras.layers import Dense\n",
    "\n"
   ]
  },
  {
   "cell_type": "code",
   "execution_count": 138,
   "metadata": {},
   "outputs": [],
   "source": [
    "early_stop = EarlyStopping(monitor='loss', patience=1, verbose=1)\n",
    "input1 = Input(shape=(1,14)) # for the three columns of dat_train\n",
    "x1 = LSTM(6)(input1)\n",
    "\n",
    "input2 = Input(shape=(1,14))\n",
    "x2 = LSTM(6)(input2)\n",
    "\n",
    "con = concatenate(inputs = [x1,x2] ) # merge in metadata\n",
    "x3 = Dense(50)(con)\n",
    "x3 = Dropout(0.3)(x3)\n",
    "output = Dense(1, activation='sigmoid')(x3)\n",
    "n_net = Model(inputs=[input1, input2], outputs=output)\n",
    "n_net.compile(loss='mean_squared_error', optimizer='adam')"
   ]
  },
  {
   "cell_type": "code",
   "execution_count": 141,
   "metadata": {},
   "outputs": [
    {
     "name": "stdout",
     "output_type": "stream",
     "text": [
      "Epoch 1/10\n",
      "366/366 [==============================] - 2s 813us/step - loss: 0.0155\n",
      "Epoch 2/10\n",
      "366/366 [==============================] - 0s 755us/step - loss: 0.0072\n",
      "Epoch 3/10\n",
      "366/366 [==============================] - 0s 759us/step - loss: 0.0037\n",
      "Epoch 4/10\n",
      "366/366 [==============================] - 0s 758us/step - loss: 0.0030\n",
      "Epoch 5/10\n",
      "366/366 [==============================] - 0s 769us/step - loss: 0.0026\n",
      "Epoch 6/10\n",
      "366/366 [==============================] - 0s 769us/step - loss: 0.0031\n",
      "Epoch 00006: early stopping\n"
     ]
    },
    {
     "data": {
      "text/plain": [
       "<tensorflow.python.keras.callbacks.History at 0x7f8e14a00130>"
      ]
     },
     "execution_count": 141,
     "metadata": {},
     "output_type": "execute_result"
    }
   ],
   "source": [
    "n_net.fit(x=[X_train_A, X_train_S], y=Ac, epochs=10, batch_size=1, verbose=1,\n",
    "          callbacks=[early_stop])"
   ]
  },
  {
   "cell_type": "code",
   "execution_count": 142,
   "metadata": {},
   "outputs": [
    {
     "data": {
      "text/plain": [
       "[<matplotlib.lines.Line2D at 0x7f8e14b58a90>]"
      ]
     },
     "execution_count": 142,
     "metadata": {},
     "output_type": "execute_result"
    },
    {
     "data": {
      "image/png": "[encoded data removed]",
      "text/plain": [
       "<Figure size 432x288 with 1 Axes>"
      ]
     },
     "metadata": {
      "needs_background": "light"
     },
     "output_type": "display_data"
    }
   ],
   "source": [
    "y_pred = n_net.predict([X_test_A,X_test_S])\n",
    "plt.plot(Ad)\n",
    "plt.plot(y_pred)"
   ]
  },
  {
   "cell_type": "code",
   "execution_count": null,
   "metadata": {},
   "outputs": [],
   "source": []
  }
 ],
 "metadata": {
  "kernelspec": {
   "display_name": "Python 3",
   "language": "python",
   "name": "python3"
  },
  "language_info": {
   "codemirror_mode": {
    "name": "ipython",
    "version": 3
   },
   "file_extension": ".py",
   "mimetype": "text/x-python",
   "name": "python",
   "nbconvert_exporter": "python",
   "pygments_lexer": "ipython3",
   "version": "3.8.5"
  }
 },
 "nbformat": 4,
 "nbformat_minor": 4
}
